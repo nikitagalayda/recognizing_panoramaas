{
 "cells": [
  {
   "cell_type": "code",
   "execution_count": 1980,
   "metadata": {},
   "outputs": [],
   "source": [
    "import cv2\n",
    "import numpy as np\n",
    "import matplotlib.pyplot as plt\n",
    "from scipy.spatial.distance import cdist"
   ]
  },
  {
   "cell_type": "code",
   "execution_count": 1981,
   "metadata": {},
   "outputs": [],
   "source": [
    "im = cv2.imread('./images/0.jpg', cv2.IMREAD_COLOR)\n",
    "im_gray = cv2.imread('./images/0.jpg', cv2.IMREAD_GRAYSCALE)"
   ]
  },
  {
   "cell_type": "code",
   "execution_count": 1982,
   "metadata": {},
   "outputs": [],
   "source": [
    "# im_color = cv2.resize(im, (0,0), fx=1/2, fy=1/2)\n",
    "im_color = im"
   ]
  },
  {
   "cell_type": "code",
   "execution_count": 1983,
   "metadata": {
    "tags": []
   },
   "outputs": [],
   "source": [
    "def get_gauss_pyramid(im, l=4, sub=2, smoothing=1.0):\n",
    "    res = [im]\n",
    "    \n",
    "    for i in range(l):\n",
    "        tmp = cv2.GaussianBlur(im, (0,0), smoothing)\n",
    "        tmp = cv2.resize(im, (0,0), fx=1/sub, fy=1/sub)\n",
    "        res.append(tmp)\n",
    "        im = tmp\n",
    "    \n",
    "    return res"
   ]
  },
  {
   "cell_type": "code",
   "execution_count": 1984,
   "metadata": {},
   "outputs": [],
   "source": [
    "def window_func(x, y, s):\n",
    "    return np.exp(-(x**2 + y**2)/(2*s**2))"
   ]
  },
  {
   "cell_type": "code",
   "execution_count": 1985,
   "metadata": {
    "tags": []
   },
   "outputs": [],
   "source": [
    "def get_harris_matrix(im, si=1.5, sd=1, k=0.04):\n",
    "    h, w = im.shape[0], im.shape[1]\n",
    "    prod = []\n",
    "    \n",
    "    Iy, Ix = np.gradient(im)\n",
    "    \n",
    "    Ix2 = np.square(Ix)\n",
    "    Iy2 = np.square(Iy)\n",
    "    Ixy = Ix * Iy\n",
    "    \n",
    "    Sx2 = cv2.GaussianBlur(Ix2, (3, 3), si)\n",
    "    Sy2 = cv2.GaussianBlur(Iy2, (3, 3), si)\n",
    "    Sxy = cv2.GaussianBlur(Ixy, (3, 3), si)\n",
    "    \n",
    "    detM = (Sx2 * Sy2) - (np.square(Sxy))\n",
    "    trM = Sx2 + Sy2\n",
    "\n",
    "    R = detM - k * (np.square(trM))\n",
    "        \n",
    "    return R, Sx2, Sy2, Sxy"
   ]
  },
  {
   "cell_type": "code",
   "execution_count": 1986,
   "metadata": {},
   "outputs": [],
   "source": [
    "def get_max_R(R, threshold=0.2, step=12):\n",
    "    localMax = np.ones(R.shape, dtype=np.uint8)\n",
    "    localMax[R <= np.max(R) * threshold] = 0\n",
    "    maxima = []\n",
    "    \n",
    "    for i in range(0, R.shape[0]-step, step):\n",
    "        for j in range(0, R.shape[1]-step, step):\n",
    "            l_max = R[i, j]\n",
    "            max_coord = (i, j)\n",
    "            for k in range(step):\n",
    "                for l in range(step):\n",
    "                    c = localMax[i+k, j+l]\n",
    "                    if (c == 1) and (R[i+k, j+l] > l_max):\n",
    "                        l_max = R[i+k, j+l]\n",
    "                        max_coord = (i+k, j+l)\n",
    "#                         print(max_coord)\n",
    "\n",
    "            if max_coord == (i, j):\n",
    "                if localMax[i, j] == 1:\n",
    "                    maxima.append((max_coord[1], max_coord[0]))\n",
    "            else:\n",
    "                maxima.append((max_coord[1], max_coord[0]))\n",
    "    \n",
    "    return maxima"
   ]
  },
  {
   "cell_type": "code",
   "execution_count": 1987,
   "metadata": {},
   "outputs": [],
   "source": [
    "def get_feature_points(im, output_im):\n",
    "    R, Sx2, Sy2, Sxy = get_harris_matrix(cur_img)\n",
    "    maxima = get_max_R(R)\n",
    "    \n",
    "    for p in maxima:\n",
    "        output_im = cv2.circle(output_im, p, 1, (0, 0, 255), 1)\n",
    "    \n",
    "    return maxima, output_im"
   ]
  },
  {
   "cell_type": "code",
   "execution_count": 1988,
   "metadata": {},
   "outputs": [],
   "source": [
    "def get_orientations(M, so=4.5):\n",
    "    Iy, Ix = np.gradient(M)\n",
    "    Sy, Sx = cv2.GaussianBlur(Iy, (3, 3), so), cv2.GaussianBlur(Ix, (3, 3), so)\n",
    "    \n",
    "    res = []\n",
    "    \n",
    "    for i in range(Sy.shape[0]):\n",
    "        tmp = []\n",
    "        for j in range(Sy.shape[1]):\n",
    "            v = np.array([Sx[i, j], Sy[i, j]])\n",
    "            v_norm = np.linalg.norm(v)\n",
    "            if v_norm == 0:\n",
    "                tmp.append(np.array([0.0, 0.0]))\n",
    "            else:\n",
    "                tmp.append(v / v_norm)\n",
    "        res.append(tmp)\n",
    "    \n",
    "    return np.array(res)"
   ]
  },
  {
   "cell_type": "code",
   "execution_count": 1989,
   "metadata": {},
   "outputs": [],
   "source": [
    "def get_angles(im):\n",
    "    Iy, Ix = np.gradient(im)\n",
    "    angles = np.arctan(Iy / (Ix + 1e-8)) * (180 / np.pi)\n",
    "    angles[Ix < 0] += 180\n",
    "    angles = (angles + 360) % 360\n",
    "    \n",
    "    return angles"
   ]
  },
  {
   "cell_type": "code",
   "execution_count": 1990,
   "metadata": {},
   "outputs": [],
   "source": [
    "def rotate_image(image, angle):\n",
    "    image_center = tuple(np.array(image.shape[1::1]) / 2)\n",
    "    rot_mat = cv2.getRotationMatrix2D(image_center, angle, 1.0)\n",
    "    print(rot_mat)\n",
    "    result = cv2.warpAffine(image, rot_mat, image.shape[1::-1], flags=cv2.INTER_LINEAR)\n",
    "    return result"
   ]
  },
  {
   "cell_type": "code",
   "execution_count": 1991,
   "metadata": {},
   "outputs": [],
   "source": [
    "def get_patch(image, p, angle, s=8):\n",
    "    p = np.array([[p[1]],[p[0]]])\n",
    "    print(p)\n",
    "    image_center = tuple(np.array(image.shape[1::-1]) / 2)\n",
    "    rot_mat = cv2.getRotationMatrix2D(image_center, angle, 1.0)\n",
    "    rot_img = cv2.warpAffine(image, rot_mat, image.shape[1::-1], flags=cv2.INTER_LINEAR)\n",
    "    cv2.imwrite(\"./images/rotated_img.png\", rot_img)\n",
    "    A = [\n",
    "        [rot_mat[0][0], rot_mat[0][1]],\n",
    "        [rot_mat[1][0], rot_mat[1][1]],\n",
    "        ]\n",
    "    \n",
    "    B = [\n",
    "        [rot_mat[0][2]],\n",
    "        [rot_mat[1][2]],\n",
    "    ]\n",
    "    new_p = np.matmul(A, p) + B\n",
    "    new_i = int(new_p[0])\n",
    "    new_j = int(new_p[1])\n",
    "    \n",
    "    res = []\n",
    "    r = int(s/2)\n",
    "    for i in range(-r, r, 1):\n",
    "        tmp = []\n",
    "        for j in range(-r, r, 1):\n",
    "            tmp.append(rot_img[new_j+j, new_i+i])\n",
    "        res.append(tmp)\n",
    "    \n",
    "    return np.array(res)"
   ]
  },
  {
   "cell_type": "code",
   "execution_count": 1992,
   "metadata": {},
   "outputs": [],
   "source": [
    "im_pyramid = get_gauss_pyramid(im_gray)"
   ]
  },
  {
   "cell_type": "code",
   "execution_count": 1993,
   "metadata": {},
   "outputs": [],
   "source": [
    "cur_img = im_pyramid[0]"
   ]
  },
  {
   "cell_type": "code",
   "execution_count": 1994,
   "metadata": {},
   "outputs": [],
   "source": [
    "test_img = cur_img.copy()"
   ]
  },
  {
   "cell_type": "code",
   "execution_count": 1995,
   "metadata": {},
   "outputs": [],
   "source": [
    "fp, fp_img = get_feature_points(cur_img, test_img)"
   ]
  },
  {
   "cell_type": "code",
   "execution_count": 1996,
   "metadata": {},
   "outputs": [],
   "source": [
    "angles = get_angles(cur_img).astype(int)"
   ]
  },
  {
   "cell_type": "code",
   "execution_count": 1997,
   "metadata": {},
   "outputs": [],
   "source": [
    "z = get_orientations(cur_img)"
   ]
  },
  {
   "cell_type": "code",
   "execution_count": 1998,
   "metadata": {
    "jupyter": {
     "source_hidden": true
    },
    "tags": []
   },
   "outputs": [],
   "source": [
    "def draw_angled_rect(im, p, a, s=30):\n",
    "#     slope = a[1]/a[0 ]\n",
    "    a = (abs(a[0]), abs(a[1]))\n",
    "    a2 = ((a[0] + 3*np.pi / 4), (a[1] + 3*np.pi / 4))\n",
    "    a3 = ((a[0] + 5*np.pi / 4), (a[1] + 5*np.pi / 4))\n",
    "    a4 = ((a[0] + 7*np.pi / 4), (a[1] + 7*np.pi / 4))\n",
    "\n",
    "    a1, a2, a3, a4 = np.radians(45), np.radians(135), np.radians(225), np.radians(315)\n",
    "    \n",
    "    x0, y0 = p[0], p[1]\n",
    "    x1, y1 = p[0]+s, p[1]+s\n",
    "    x2, y2 = p[0]+s, p[1]-s\n",
    "    x3, y3 = p[0]-s, p[1]-s\n",
    "    x4, y4 = p[0]-s, p[1]+s\n",
    "    \n",
    "    nx1 = int(((x1 - x0) * np.cos(a1)) - ((y1 - y0) * np.sin(a1)) + x0);\n",
    "    ny1 = int(((x1 - x0) * np.sin(a1)) + ((y1 - y0) * np.cos(a1)) + y0);\n",
    "    \n",
    "    nx2 = int(((x2 - x0) * np.cos(a2)) - ((y2 - y0) * np.sin(a2)) + x0);\n",
    "    ny2 = int(((x2 - x0) * np.sin(a2)) + ((y2 - y0) * np.cos(a2)) + y0);\n",
    "    \n",
    "    nx3 = int(((x3 - x0) * np.cos(a3)) - ((y3 - y0) * np.sin(a3)) + x0);\n",
    "    ny3 = int(((x3 - x0) * np.sin(a3)) + ((y3 - y0) * np.cos(a3)) + y0);\n",
    "    \n",
    "    nx4 = int(((x4 - x0) * np.cos(a4)) - ((y4 - y0) * np.sin(a4)) + x0);\n",
    "    ny4 = int(((x4 - x0) * np.sin(a4)) + ((y4 - y0) * np.cos(a4)) + y0);\n",
    "    \n",
    "#     x1 = int(((x1 - x0) * a[0]) - ((y1 - y0) * a[1]) + x0);\n",
    "#     y1 = int(((x1 - x0) * a[1]) + ((y1 - y0) * a[0]) + y0);\n",
    "    \n",
    "#     x2 = int(((x2 - x0) * a2[0]) - ((y2 - y0) * a2[1]) + x0);\n",
    "#     y2 = int(((x2 - x0) * a2[1]) + ((y2 - y0) * a2[0]) + y0);\n",
    "    \n",
    "#     x3 = int(((x3 - x0) * a3[0]) - ((y3 - y0) * a3[1]) + x0);\n",
    "#     y3 = int(((x3 - x0) * a3[1]) + ((y3 - y0) * a3[0]) + y0);\n",
    "    \n",
    "#     x4 = int(((x4 - x0) * a[0]) - ((y4 - y0) * a4[1]) + x0);\n",
    "#     y4 = int(((x4 - x0) * a[1]) + ((y4 - y0) * a4[0]) + y0);\n",
    "#     x1 = int(p[0] + s * (angle[0] + np.pi / 4))\n",
    "#     y1 = int(p[1] + s * (angle[1] + np.pi / 4))\n",
    "    \n",
    "#     x2 = int(p[0] + s * np.cos(int(np.degrees((np.arccos(angle[0])+(3*np.pi / 4))))%360))\n",
    "#     y2 = int(p[1] + s * np.sin(int(np.degrees((np.arcsin(angle[1])+(3*np.pi / 4))))%360))\n",
    "    \n",
    "#     x3 = int(p[0] + s * np.cos(int(np.degrees((np.arccos(angle[0])+(5*np.pi / 4))))%360))\n",
    "#     y3 = int(p[1] + s * np.sin(int(np.degrees((np.arcsin(angle[1])+(5*np.pi / 4))))%360))\n",
    "    \n",
    "#     x4 = int(p[0] + s * (angle[0] + 7*np.pi / 4))\n",
    "#     y4 = int(p[1] + s * (angle[1] + 7*np.pi / 4))\n",
    "#     output_im = cv2.circle(im, (x1, y1), 2, (255, 0, 0), 2)\n",
    "#     output_im = cv2.circle(im, (x2, y2), 2, (255, 0, 0), 2)\n",
    "#     output_im = cv2.circle(im, (x3, y3), 2, (255, 0, 0), 2)\n",
    "#     output_im = cv2.circle(im, (x4, y4), 2, (255, 0, 0), 2)\n",
    "\n",
    "    output_im = cv2.circle(im, (nx1, ny1), 2, (255, 0, 0), 2)\n",
    "    output_im = cv2.circle(im, (nx2, ny2), 2, (255, 0, 0), 2)\n",
    "    output_im = cv2.circle(im, (nx3, ny3), 2, (255, 0, 0), 2)\n",
    "    output_im = cv2.circle(im, (nx4, ny4), 2, (255, 0, 0), 2)\n",
    "    \n",
    "    \n",
    "#     cv2.line(im, (nx1, ny1), (nx2, ny2), (255, 0, 0), thickness=1, lineType=1)\n",
    "#     cv2.line(im, (nx2, ny2), (nx3, ny3), (255, 0, 0), thickness=1, lineType=1)\n",
    "#     cv2.line(im, (nx3, ny3), (nx4, ny4), (255, 0, 0), thickness=1, lineType=1)\n",
    "#     cv2.line(im, (nx4, ny4), (nx1, ny1), (255, 0, 0), thickness=1, lineType=1)\n",
    "\n",
    "    return"
   ]
  },
  {
   "cell_type": "code",
   "execution_count": 1999,
   "metadata": {},
   "outputs": [
    {
     "ename": "IndexError",
     "evalue": "index 483 is out of bounds for axis 1 with size 384",
     "output_type": "error",
     "traceback": [
      "\u001b[1;31m---------------------------------------------------------------------------\u001b[0m",
      "\u001b[1;31mIndexError\u001b[0m                                Traceback (most recent call last)",
      "\u001b[1;32m<ipython-input-1999-d72631ed24c0>\u001b[0m in \u001b[0;36m<module>\u001b[1;34m\u001b[0m\n\u001b[0;32m      1\u001b[0m \u001b[1;32mfor\u001b[0m \u001b[0mp\u001b[0m \u001b[1;32min\u001b[0m \u001b[0mfp\u001b[0m\u001b[1;33m:\u001b[0m\u001b[1;33m\u001b[0m\u001b[1;33m\u001b[0m\u001b[0m\n\u001b[1;32m----> 2\u001b[1;33m     \u001b[0mangle\u001b[0m \u001b[1;33m=\u001b[0m \u001b[0mz\u001b[0m\u001b[1;33m[\u001b[0m\u001b[0mp\u001b[0m\u001b[1;33m[\u001b[0m\u001b[1;36m0\u001b[0m\u001b[1;33m]\u001b[0m\u001b[1;33m,\u001b[0m \u001b[0mp\u001b[0m\u001b[1;33m[\u001b[0m\u001b[1;36m1\u001b[0m\u001b[1;33m]\u001b[0m\u001b[1;33m]\u001b[0m\u001b[1;33m\u001b[0m\u001b[1;33m\u001b[0m\u001b[0m\n\u001b[0m\u001b[0;32m      3\u001b[0m     \u001b[0mx2\u001b[0m \u001b[1;33m=\u001b[0m \u001b[0mint\u001b[0m\u001b[1;33m(\u001b[0m\u001b[0mp\u001b[0m\u001b[1;33m[\u001b[0m\u001b[1;36m0\u001b[0m\u001b[1;33m]\u001b[0m \u001b[1;33m+\u001b[0m \u001b[1;36m8\u001b[0m \u001b[1;33m*\u001b[0m \u001b[0mangle\u001b[0m\u001b[1;33m[\u001b[0m\u001b[1;36m0\u001b[0m\u001b[1;33m]\u001b[0m\u001b[1;33m)\u001b[0m\u001b[1;33m\u001b[0m\u001b[1;33m\u001b[0m\u001b[0m\n\u001b[0;32m      4\u001b[0m     \u001b[0my2\u001b[0m \u001b[1;33m=\u001b[0m \u001b[0mint\u001b[0m\u001b[1;33m(\u001b[0m\u001b[0mp\u001b[0m\u001b[1;33m[\u001b[0m\u001b[1;36m1\u001b[0m\u001b[1;33m]\u001b[0m \u001b[1;33m+\u001b[0m \u001b[1;36m8\u001b[0m \u001b[1;33m*\u001b[0m \u001b[0mangle\u001b[0m\u001b[1;33m[\u001b[0m\u001b[1;36m1\u001b[0m\u001b[1;33m]\u001b[0m\u001b[1;33m)\u001b[0m\u001b[1;33m\u001b[0m\u001b[1;33m\u001b[0m\u001b[0m\n\u001b[0;32m      5\u001b[0m \u001b[1;31m#     output_im = cv2.circle(im_color, (x2, y2), 2, (0, 0, 255), 2)\u001b[0m\u001b[1;33m\u001b[0m\u001b[1;33m\u001b[0m\u001b[1;33m\u001b[0m\u001b[0m\n",
      "\u001b[1;31mIndexError\u001b[0m: index 483 is out of bounds for axis 1 with size 384"
     ]
    }
   ],
   "source": [
    "for p in fp:\n",
    "    angle = z[p[0], p[1]]\n",
    "    x2 = int(p[0] + 8 * angle[0])\n",
    "    y2 = int(p[1] + 8 * angle[1])\n",
    "#     output_im = cv2.circle(im_color, (x2, y2), 2, (0, 0, 255), 2)\n",
    "        \n",
    "#     draw_angled_rect(im_color, p, z[p[1], p[0]])\n",
    "    \n",
    "#     break\n",
    "    cv2.line(im_color, p, (x2, y2), (0, 0, 255), thickness=1, lineType=1)\n",
    "    \n",
    "    x2 = int(p[0] + 8 * (angle[0] + np.pi / 4))\n",
    "    y2 = int(p[1] + 8 * (angle[1] + np.pi / 4))\n",
    "    \n",
    "#     cv2.line(im_color, p, (x2, y2), (255, 0, 0), thickness=1, lineType=1)\n",
    "# im_color[fp[2][0], fp[2][1]] = [0, 0, 255]\n",
    "plt.imshow(im_color)\n",
    "cv2.imwrite(\"./images/test.png\", im_color)"
   ]
  },
  {
   "cell_type": "code",
   "execution_count": null,
   "metadata": {},
   "outputs": [],
   "source": [
    "# img = cv2.imread('./images/test.png', cv2.IMREAD_COLOR)"
   ]
  },
  {
   "cell_type": "code",
   "execution_count": null,
   "metadata": {},
   "outputs": [],
   "source": [
    "test_p = fp[34]\n",
    "angle = angles[test_p[1], test_p[0]]"
   ]
  },
  {
   "cell_type": "code",
   "execution_count": null,
   "metadata": {},
   "outputs": [],
   "source": [
    "tim = cv2.imread('./images/0.jpg', cv2.IMREAD_COLOR)\n",
    "img = cv2.resize(im, (0,0), fx=1/2, fy=1/2)\n",
    "# img[test_p[0], test_p[1]] = [0, 0, 255]\n",
    "img = cv2.circle(img, (test_p[1], test_p[0]), 2, (0, 0, 255), 2)"
   ]
  },
  {
   "cell_type": "code",
   "execution_count": null,
   "metadata": {},
   "outputs": [],
   "source": [
    "test = get_patch(img, test_p, angle, 8)"
   ]
  },
  {
   "cell_type": "code",
   "execution_count": null,
   "metadata": {},
   "outputs": [],
   "source": [
    "plt.imshow(test)"
   ]
  },
  {
   "cell_type": "code",
   "execution_count": null,
   "metadata": {},
   "outputs": [],
   "source": [
    "cv2.imwrite(\"./images/rot_test.png\", test)"
   ]
  },
  {
   "cell_type": "code",
   "execution_count": null,
   "metadata": {},
   "outputs": [],
   "source": []
  },
  {
   "cell_type": "code",
   "execution_count": null,
   "metadata": {},
   "outputs": [],
   "source": []
  }
 ],
 "metadata": {
  "kernelspec": {
   "display_name": "Python 3",
   "language": "python",
   "name": "python3"
  },
  "language_info": {
   "codemirror_mode": {
    "name": "ipython",
    "version": 3
   },
   "file_extension": ".py",
   "mimetype": "text/x-python",
   "name": "python",
   "nbconvert_exporter": "python",
   "pygments_lexer": "ipython3",
   "version": "3.7.3"
  }
 },
 "nbformat": 4,
 "nbformat_minor": 4
}
