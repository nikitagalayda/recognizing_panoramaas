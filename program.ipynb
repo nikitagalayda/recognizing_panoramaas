{
 "cells": [
  {
   "cell_type": "code",
   "execution_count": 176,
   "metadata": {},
   "outputs": [],
   "source": [
    "import cv2\n",
    "import numpy as np\n",
    "import matplotlib.pyplot as plt"
   ]
  },
  {
   "cell_type": "code",
   "execution_count": 177,
   "metadata": {},
   "outputs": [],
   "source": [
    "im = cv2.imread('./images/prtn00.jpg', cv2.IMREAD_COLOR)\n",
    "im_gray = cv2.imread('./images/prtn00.jpg', cv2.IMREAD_GRAYSCALE)"
   ]
  },
  {
   "cell_type": "code",
   "execution_count": 178,
   "metadata": {},
   "outputs": [],
   "source": [
    "def get_gauss_pyramid(im, l=4, sub=2, smoothing=1.0):\n",
    "    res = [im]\n",
    "    \n",
    "    for i in range(l):\n",
    "        tmp = cv2.GaussianBlur(im, (0,0), smoothing)\n",
    "        tmp = cv2.resize(im, (0,0), fx=1/sub, fy=1/sub)\n",
    "        res.append(tmp)\n",
    "        im = tmp\n",
    "    \n",
    "    return res"
   ]
  },
  {
   "cell_type": "code",
   "execution_count": 179,
   "metadata": {},
   "outputs": [],
   "source": [
    "# def get_harris_matrix(im, si=1.5, sd=1):\n",
    "#     h, w = im.shape[0], im.shape[1]\n",
    "#     H = np.zeros((h, w))\n",
    "    \n",
    "#     for i in range(h):\n",
    "#         for j in range(w):\n",
    "#             H[i, j] = cv2.Sobel(im, -1, sd, sd)"
   ]
  },
  {
   "cell_type": "code",
   "execution_count": 235,
   "metadata": {},
   "outputs": [],
   "source": [
    "def get_harris_matrix(im, si=1.5, sd=1):\n",
    "    h, w = im.shape[0], im.shape[1]\n",
    "    prod = []\n",
    "    \n",
    "    dx = cv2.Sobel(im, -1, sd, 0)\n",
    "    dy = cv2.Sobel(im, -1, 0, 1)\n",
    "    \n",
    "    for i in range(h):\n",
    "        p_tmp = []\n",
    "        for j in range(w):\n",
    "            tmp = np.array([[dx[i, j]], [dy[i, j]]])\n",
    "            tmp_prod = np.matmul(tmp, np.transpose(tmp))\n",
    "            tmp_prod = cv2.GaussianBlur(tmp_prod, (0,0), si)\n",
    "            p_tmp.append(tmp_prod)\n",
    "    \n",
    "        prod.append(p_tmp)\n",
    "    \n",
    "    prod = np.array(prod)\n",
    "        \n",
    "    return prod"
   ]
  },
  {
   "cell_type": "code",
   "execution_count": 236,
   "metadata": {},
   "outputs": [],
   "source": [
    "# def get_harris_matrix(im, si=1.5, sd=1):\n",
    "#     d = cv2.Sobel(im, -1, sd, sd)\n",
    "#     dT = np.transpose(d)\n",
    "#     prod = np.matmul(d, dT)\n",
    "#     H = cv2.GaussianBlur(prod, (0,0), si)\n",
    "    \n",
    "#     return H"
   ]
  },
  {
   "cell_type": "code",
   "execution_count": 264,
   "metadata": {},
   "outputs": [],
   "source": [
    "def get_corner_strength(H):\n",
    "    res = []\n",
    "    \n",
    "    for i in range(H.shape[0]):\n",
    "        tmp = []\n",
    "        for j in range(H.shape[1]):\n",
    "            det = np.linalg.det(H[i, j])\n",
    "            trace = np.trace(H[i, j])\n",
    "            if trace == 0:\n",
    "                tmp.append(0)\n",
    "            else:\n",
    "                tmp.append(det/trace)\n",
    "#             w, v = np.linalg.eig(H[i, j])\n",
    "#             eig1 = w[0]\n",
    "#             eig2 = w[1]\n",
    "# #             if i == 10 and j == 10:\n",
    "#             print(eig1)\n",
    "            \n",
    "#             if (eig1+eig2) == 0:\n",
    "#                 tmp.append(0)\n",
    "#             else:\n",
    "#                 tmp.append((eig1*eig2)/(eig1+eig2))\n",
    "        res.append(tmp)\n",
    "        \n",
    "    return np.array(res)"
   ]
  },
  {
   "cell_type": "code",
   "execution_count": 258,
   "metadata": {},
   "outputs": [],
   "source": [
    "blurred_images = get_gauss_pyramid(im_gray)"
   ]
  },
  {
   "cell_type": "code",
   "execution_count": 246,
   "metadata": {},
   "outputs": [],
   "source": [
    "H = get_harris_matrix(blurred_images[0])"
   ]
  },
  {
   "cell_type": "code",
   "execution_count": 265,
   "metadata": {},
   "outputs": [],
   "source": [
    "fhm = get_corner_strength(H)"
   ]
  },
  {
   "cell_type": "code",
   "execution_count": 266,
   "metadata": {},
   "outputs": [],
   "source": [
    "f = fhm.flatten()"
   ]
  },
  {
   "cell_type": "code",
   "execution_count": 267,
   "metadata": {},
   "outputs": [
    {
     "data": {
      "text/plain": [
       "1.421085471520205e-14"
      ]
     },
     "execution_count": 267,
     "metadata": {},
     "output_type": "execute_result"
    }
   ],
   "source": [
    "max(f)"
   ]
  },
  {
   "cell_type": "code",
   "execution_count": null,
   "metadata": {},
   "outputs": [],
   "source": []
  }
 ],
 "metadata": {
  "kernelspec": {
   "display_name": "Python 3",
   "language": "python",
   "name": "python3"
  },
  "language_info": {
   "codemirror_mode": {
    "name": "ipython",
    "version": 3
   },
   "file_extension": ".py",
   "mimetype": "text/x-python",
   "name": "python",
   "nbconvert_exporter": "python",
   "pygments_lexer": "ipython3",
   "version": "3.7.3"
  }
 },
 "nbformat": 4,
 "nbformat_minor": 4
}
