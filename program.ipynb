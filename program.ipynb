{
 "cells": [
  {
   "cell_type": "code",
   "execution_count": 465,
   "metadata": {},
   "outputs": [],
   "source": [
    "import cv2\n",
    "import numpy as np\n",
    "import matplotlib.pyplot as plt\n",
    "from scipy.spatial.distance import cdist\n",
    "import sys\n",
    "from scipy import stats\n",
    "from sklearn.neighbors import KDTree"
   ]
  },
  {
   "cell_type": "code",
   "execution_count": 466,
   "metadata": {},
   "outputs": [],
   "source": [
    "im = cv2.imread('./images/0.jpg', cv2.IMREAD_COLOR)\n",
    "im_gray = cv2.imread('./images/0.jpg', cv2.IMREAD_GRAYSCALE)"
   ]
  },
  {
   "cell_type": "code",
   "execution_count": 467,
   "metadata": {},
   "outputs": [],
   "source": [
    "# im_color = cv2.resize(im, (0,0), fx=1/2, fy=1/2)\n",
    "im_color = im"
   ]
  },
  {
   "cell_type": "code",
   "execution_count": 468,
   "metadata": {
    "tags": []
   },
   "outputs": [],
   "source": [
    "def get_gauss_pyramid(im, l=4, sub=2, smoothing=1.0):\n",
    "    res = [im]\n",
    "    \n",
    "    for i in range(l):\n",
    "        tmp = cv2.GaussianBlur(im, (0,0), smoothing)\n",
    "        tmp = cv2.resize(im, (0,0), fx=1/sub, fy=1/sub)\n",
    "        res.append(tmp)\n",
    "        im = tmp\n",
    "    \n",
    "    return res"
   ]
  },
  {
   "cell_type": "code",
   "execution_count": 469,
   "metadata": {
    "tags": []
   },
   "outputs": [],
   "source": [
    "def get_harris_matrix(im, si=1.5, sd=1, k=0.04):\n",
    "    h, w = im.shape[0], im.shape[1]\n",
    "    prod = []\n",
    "    \n",
    "    Iy, Ix = np.gradient(im)\n",
    "    \n",
    "    Ix2 = np.square(Ix)\n",
    "    Iy2 = np.square(Iy)\n",
    "    Ixy = Ix * Iy\n",
    "    \n",
    "    Sx2 = cv2.GaussianBlur(Ix2, (3, 3), si)\n",
    "    Sy2 = cv2.GaussianBlur(Iy2, (3, 3), si)\n",
    "    Sxy = cv2.GaussianBlur(Ixy, (3, 3), si)\n",
    "    \n",
    "    detM = (Sx2 * Sy2) - (np.square(Sxy))\n",
    "    trM = Sx2 + Sy2\n",
    "\n",
    "    R = detM - k * (np.square(trM))\n",
    "        \n",
    "    return R, Sx2, Sy2, Sxy"
   ]
  },
  {
   "cell_type": "code",
   "execution_count": 470,
   "metadata": {
    "tags": []
   },
   "outputs": [],
   "source": [
    "def get_max_R(R, threshold=0.1, step=12):\n",
    "    localMax = np.ones(R.shape, dtype=np.uint8)\n",
    "    localMax[R <= np.max(R) * threshold] = 0\n",
    "    maxima = []\n",
    "    \n",
    "    for i in range(0, R.shape[0]-step, step):\n",
    "        for j in range(0, R.shape[1]-step, step):\n",
    "            l_max = R[i, j]\n",
    "            max_coord = (i, j)\n",
    "            for k in range(step):\n",
    "                for l in range(step):\n",
    "                    c = localMax[i+k, j+l]\n",
    "                    if (c == 1) and (R[i+k, j+l] > l_max):\n",
    "                        l_max = R[i+k, j+l]\n",
    "                        max_coord = (i+k, j+l)\n",
    "#                         print(max_coord)\n",
    "\n",
    "            if max_coord == (i, j):\n",
    "                if localMax[i, j] == 1:\n",
    "                    maxima.append((max_coord[1], max_coord[0]))\n",
    "            else:\n",
    "                maxima.append((max_coord[1], max_coord[0]))\n",
    "    \n",
    "    return maxima"
   ]
  },
  {
   "cell_type": "code",
   "execution_count": 471,
   "metadata": {
    "tags": []
   },
   "outputs": [],
   "source": [
    "def get_feature_points(im):\n",
    "    R, Sx2, Sy2, Sxy = get_harris_matrix(im)\n",
    "    maxima = get_max_R(R)\n",
    "    \n",
    "#     for p in maxima:\n",
    "#         output_im = cv2.circle(output_im, p, 1, (0, 0, 255), 1)\n",
    "    \n",
    "    return maxima"
   ]
  },
  {
   "cell_type": "code",
   "execution_count": 472,
   "metadata": {
    "tags": []
   },
   "outputs": [],
   "source": [
    "def get_orientations(M, so=4.5):\n",
    "    Iy, Ix = np.gradient(M)\n",
    "    Sy, Sx = cv2.GaussianBlur(Iy, (3, 3), so), cv2.GaussianBlur(Ix, (3, 3), so)\n",
    "#     print(Sy.shape)\n",
    "    res = []\n",
    "    \n",
    "    for i in range(Sy.shape[0]):\n",
    "        tmp = []\n",
    "        for j in range(Sy.shape[1]):\n",
    "            v = np.array([Sx[i, j], Sy[i, j]])\n",
    "            v_norm = np.linalg.norm(v)\n",
    "            if v_norm == 0:\n",
    "                tmp.append(np.array([0.0, 0.0]))\n",
    "            else:\n",
    "                tmp.append(v / v_norm)\n",
    "        res.append(tmp)\n",
    "    \n",
    "    return np.array(res)"
   ]
  },
  {
   "cell_type": "code",
   "execution_count": 473,
   "metadata": {
    "tags": []
   },
   "outputs": [],
   "source": [
    "def get_angles(Z):\n",
    "    angles = np.zeros((Z.shape[0], Z.shape[1]))\n",
    "    for i in range(Z.shape[0]):\n",
    "        for j in range(Z.shape[1]):\n",
    "            x = Z[i, j]\n",
    "            angles[i, j] = (int(np.degrees(np.arctan2(x[1], x[0])))+360)%360\n",
    "    \n",
    "    return angles"
   ]
  },
  {
   "cell_type": "code",
   "execution_count": 474,
   "metadata": {
    "tags": []
   },
   "outputs": [],
   "source": [
    "def rotate_image(image, angle):\n",
    "    image_center = tuple(np.array(image.shape[1::1]) / 2)\n",
    "    rot_mat = cv2.getRotationMatrix2D(image_center, angle, 1.0)\n",
    "#     print(rot_mat)\n",
    "    result = cv2.warpAffine(image, rot_mat, image.shape[1::-1], flags=cv2.INTER_LINEAR)\n",
    "    return result"
   ]
  },
  {
   "cell_type": "code",
   "execution_count": 475,
   "metadata": {
    "tags": []
   },
   "outputs": [],
   "source": [
    "def get_patch(image, p, angle, s=8):\n",
    "    p = np.array([[p[1]],[p[0]]])\n",
    "    height, width = image.shape[:2]\n",
    "    image_center = (width/2, height/2)\n",
    "    \n",
    "    rot_mat = cv2.getRotationMatrix2D(image_center, angle, 1.0)\n",
    "    abs_cos = abs(rot_mat[0,0])\n",
    "    abs_sin = abs(rot_mat[0,1])\n",
    "\n",
    "    bound_w = int(height * abs_sin + width * abs_cos)\n",
    "    bound_h = int(height * abs_cos + width * abs_sin)\n",
    "\n",
    "    rot_mat[0, 2] += bound_w/2 - image_center[0]\n",
    "    rot_mat[1, 2] += bound_h/2 - image_center[1]\n",
    "    \n",
    "    rot_img = cv2.warpAffine(image, rot_mat, (bound_w, bound_h), flags=cv2.INTER_LINEAR)\n",
    "    A = [\n",
    "        [rot_mat[0][0], rot_mat[0][1]],\n",
    "        [rot_mat[1][0], rot_mat[1][1]],\n",
    "        ]\n",
    "    \n",
    "    B = [\n",
    "        [rot_mat[0][2]],\n",
    "        [rot_mat[1][2]],\n",
    "    ]\n",
    "    new_p = np.matmul(A, p) + B\n",
    "    new_i = int(new_p[0])\n",
    "    new_j = int(new_p[1])\n",
    "    \n",
    "    res = []\n",
    "    r = int(s/2)\n",
    "    for j in range(-r, r, 1):\n",
    "        tmp = []\n",
    "        for i in range(-r, r, 1):\n",
    "            try:\n",
    "                tmp.append(rot_img[new_j+j, new_i+i])\n",
    "            except:\n",
    "                tmp.append(0.0)\n",
    "        res.append(tmp)\n",
    "\n",
    "    res = np.array(res)\n",
    "    if np.isnan(res).any():\n",
    "        print(res)\n",
    "    \n",
    "    return res"
   ]
  },
  {
   "cell_type": "code",
   "execution_count": 500,
   "metadata": {
    "tags": []
   },
   "outputs": [],
   "source": [
    "def get_description_vectors(img, feature_points, angles, size=8):\n",
    "    left_dv = []\n",
    "    right_dv = []\n",
    "    \n",
    "    width_mid = int(img.shape[1] / 2)\n",
    "    for i, p in enumerate(feature_points):        \n",
    "        p = (p[1], p[0])\n",
    "        angle = angles[p[0], p[1]]\n",
    "        if angle >= 0 and angle < 90:\n",
    "            angle = 360-abs(270+angle)\n",
    "        else:\n",
    "            angle = 360-abs(90-angle)\n",
    "        vec = get_patch(img, p, angle, size).flatten()\n",
    "        if(np.sum(vec) == 0):\n",
    "            print(\"sum is 0\")\n",
    "        norm_vec = np.array(stats.zscore(vec))\n",
    "        if p[1] < width_mid:\n",
    "            left_dv.append(norm_vec)\n",
    "        else:\n",
    "            right_dv.append(norm_vec)\n",
    "    dv = [np.array(left_dv), np.array(right_dv)]\n",
    "    \n",
    "    if np.isnan(np.array(left_dv)).any():\n",
    "        print(np.array(left_dv))\n",
    "    \n",
    "    return dv"
   ]
  },
  {
   "cell_type": "code",
   "execution_count": 477,
   "metadata": {
    "tags": []
   },
   "outputs": [],
   "source": [
    "def get_all_img_DV(images):\n",
    "    res = []\n",
    "    \n",
    "    for i, image in enumerate(images):\n",
    "        print(\"processing image {}\".format(i))\n",
    "        im_pyr = get_gauss_pyramid(image)\n",
    "        img = im_pyr[0]\n",
    "        \n",
    "        fp = get_feature_points(img)\n",
    "        \n",
    "        z = get_orientations(img)\n",
    "        angles = get_angles(z)\n",
    "        \n",
    "        d_vecs = get_description_vectors(img, fp, angles)\n",
    "        \n",
    "        res.append(d_vecs)\n",
    "        \n",
    "    return res"
   ]
  },
  {
   "cell_type": "code",
   "execution_count": null,
   "metadata": {},
   "outputs": [],
   "source": [
    "def find_neighbor_images(img):\n",
    "    "
   ]
  },
  {
   "cell_type": "code",
   "execution_count": 478,
   "metadata": {},
   "outputs": [],
   "source": [
    "images = []\n",
    "\n",
    "for i in range(5):\n",
    "    images.append(cv2.imread('./images/{}.jpg'.format(i), cv2.IMREAD_GRAYSCALE))\n",
    "\n",
    "images = np.array(images)"
   ]
  },
  {
   "cell_type": "code",
   "execution_count": 501,
   "metadata": {},
   "outputs": [
    {
     "name": "stdout",
     "output_type": "stream",
     "text": [
      "processing image 0\n",
      "processing image 1\n",
      "processing image 2\n",
      "processing image 3\n",
      "processing image 4\n"
     ]
    }
   ],
   "source": [
    "# DV structure:\n",
    "# Array for each image. Each array has 2 arrays, left and right\n",
    "# each of those arrays has N 64 length vectors representing patches\n",
    "\n",
    "DV = get_all_img_DV(images)"
   ]
  },
  {
   "cell_type": "code",
   "execution_count": 493,
   "metadata": {},
   "outputs": [
    {
     "data": {
      "text/plain": [
       "numpy.ndarray"
      ]
     },
     "execution_count": 493,
     "metadata": {},
     "output_type": "execute_result"
    }
   ],
   "source": [
    "type(DV[0][0])"
   ]
  },
  {
   "cell_type": "code",
   "execution_count": 502,
   "metadata": {},
   "outputs": [],
   "source": [
    "for i in DV:\n",
    "    if np.isnan(i[0]).any():\n",
    "        print(i[0])"
   ]
  },
  {
   "cell_type": "code",
   "execution_count": 503,
   "metadata": {},
   "outputs": [],
   "source": [
    "# left and right patches of all images\n",
    "\n",
    "DV_left = [x[0] for x in DV]\n",
    "DV_right = [x[1] for x in DV]\n",
    "\n",
    "# DV_left = DV[:, 0]\n",
    "# DV_right = DV[:, 1]\n",
    "\n",
    "# DV_left = DV_left[~np.isnan(DV_left)]\n",
    "# DV_right = DV_right[~np.isnan(DV_right)]"
   ]
  },
  {
   "cell_type": "code",
   "execution_count": 518,
   "metadata": {},
   "outputs": [
    {
     "data": {
      "text/plain": [
       "5"
      ]
     },
     "execution_count": 518,
     "metadata": {},
     "output_type": "execute_result"
    }
   ],
   "source": [
    "len(DV_l)"
   ]
  },
  {
   "cell_type": "code",
   "execution_count": 483,
   "metadata": {},
   "outputs": [
    {
     "name": "stderr",
     "output_type": "stream",
     "text": [
      "c:\\users\\nikita\\appdata\\local\\programs\\python\\python37\\lib\\site-packages\\ipykernel_launcher.py:1: VisibleDeprecationWarning: Creating an ndarray from ragged nested sequences (which is a list-or-tuple of lists-or-tuples-or ndarrays with different lengths or shapes) is deprecated. If you meant to do this, you must specify 'dtype=object' when creating the ndarray\n",
      "  \"\"\"Entry point for launching an IPython kernel.\n"
     ]
    },
    {
     "ename": "TypeError",
     "evalue": "ufunc 'isnan' not supported for the input types, and the inputs could not be safely coerced to any supported types according to the casting rule ''safe''",
     "output_type": "error",
     "traceback": [
      "\u001b[1;31m---------------------------------------------------------------------------\u001b[0m",
      "\u001b[1;31mTypeError\u001b[0m                                 Traceback (most recent call last)",
      "\u001b[1;32m<ipython-input-483-6676077b4762>\u001b[0m in \u001b[0;36m<module>\u001b[1;34m\u001b[0m\n\u001b[1;32m----> 1\u001b[1;33m \u001b[0mDV_left\u001b[0m \u001b[1;33m=\u001b[0m \u001b[0mDV_left\u001b[0m\u001b[1;33m[\u001b[0m\u001b[1;33m:\u001b[0m\u001b[1;33m,\u001b[0m \u001b[1;33m~\u001b[0m\u001b[0mnp\u001b[0m\u001b[1;33m.\u001b[0m\u001b[0misnan\u001b[0m\u001b[1;33m(\u001b[0m\u001b[0mDV_left\u001b[0m\u001b[1;33m)\u001b[0m\u001b[1;33m.\u001b[0m\u001b[0many\u001b[0m\u001b[1;33m(\u001b[0m\u001b[0maxis\u001b[0m\u001b[1;33m=\u001b[0m\u001b[1;36m0\u001b[0m\u001b[1;33m)\u001b[0m\u001b[1;33m]\u001b[0m\u001b[1;33m\u001b[0m\u001b[1;33m\u001b[0m\u001b[0m\n\u001b[0m\u001b[0;32m      2\u001b[0m \u001b[0mDV_right\u001b[0m \u001b[1;33m=\u001b[0m \u001b[0mDV_right\u001b[0m\u001b[1;33m[\u001b[0m\u001b[1;33m:\u001b[0m\u001b[1;33m,\u001b[0m \u001b[1;33m~\u001b[0m\u001b[0mnp\u001b[0m\u001b[1;33m.\u001b[0m\u001b[0misnan\u001b[0m\u001b[1;33m(\u001b[0m\u001b[0mDV_right\u001b[0m\u001b[1;33m)\u001b[0m\u001b[1;33m.\u001b[0m\u001b[0many\u001b[0m\u001b[1;33m(\u001b[0m\u001b[0maxis\u001b[0m\u001b[1;33m=\u001b[0m\u001b[1;36m0\u001b[0m\u001b[1;33m)\u001b[0m\u001b[1;33m]\u001b[0m\u001b[1;33m\u001b[0m\u001b[1;33m\u001b[0m\u001b[0m\n\u001b[0;32m      3\u001b[0m \u001b[1;31m# for c, i in enumerate(DV_left):\u001b[0m\u001b[1;33m\u001b[0m\u001b[1;33m\u001b[0m\u001b[1;33m\u001b[0m\u001b[0m\n\u001b[0;32m      4\u001b[0m \u001b[1;31m#     DV_left[c] = i[~np.isnan(i)]\u001b[0m\u001b[1;33m\u001b[0m\u001b[1;33m\u001b[0m\u001b[1;33m\u001b[0m\u001b[0m\n\u001b[0;32m      5\u001b[0m \u001b[1;33m\u001b[0m\u001b[0m\n",
      "\u001b[1;31mTypeError\u001b[0m: ufunc 'isnan' not supported for the input types, and the inputs could not be safely coerced to any supported types according to the casting rule ''safe''"
     ]
    }
   ],
   "source": [
    "DV_left = DV_left[:, ~np.isnan(DV_left).any(axis=0)]\n",
    "DV_right = DV_right[:, ~np.isnan(DV_right).any(axis=0)]\n",
    "# for c, i in enumerate(DV_left):\n",
    "#     DV_left[c] = i[~np.isnan(i)]\n",
    "    \n",
    "# for c, i in enumerate(DV_right):\n",
    "#     DV_right[c] = i[~np.isnan(i)]\n",
    "#     DV_right = DV_right[~np.isnan(DV_right)]"
   ]
  },
  {
   "cell_type": "code",
   "execution_count": 514,
   "metadata": {},
   "outputs": [
    {
     "data": {
      "text/plain": [
       "(168, 64)"
      ]
     },
     "execution_count": 514,
     "metadata": {},
     "output_type": "execute_result"
    }
   ],
   "source": [
    "DV_right[4].shape"
   ]
  },
  {
   "cell_type": "code",
   "execution_count": 515,
   "metadata": {},
   "outputs": [],
   "source": [
    "test = np.array(DV_right[4])\n",
    "tree = KDTree(test)\n",
    "res = []\n",
    "avg_dist = []\n",
    "\n",
    "\n",
    "for i, img_dv in enumerate(DV_left):\n",
    "#     print(img_dv)\n",
    "#     print(np.array(img_dv).shape)\n",
    "    r = tree.query(img_dv)\n",
    "    res.append(r)\n",
    "    avg_dist.append(np.mean(r[0]))\n",
    "\n",
    "# res = np.array(res)\n",
    "# avg_dist = np.array(avg_dist)"
   ]
  },
  {
   "cell_type": "code",
   "execution_count": 516,
   "metadata": {},
   "outputs": [
    {
     "data": {
      "text/plain": [
       "[6.584941925983713,\n",
       " 6.436888075769845,\n",
       " 6.227114803050381,\n",
       " 5.763450487818598,\n",
       " 6.152960791391464]"
      ]
     },
     "execution_count": 516,
     "metadata": {},
     "output_type": "execute_result"
    }
   ],
   "source": [
    "avg_dist"
   ]
  },
  {
   "cell_type": "code",
   "execution_count": null,
   "metadata": {},
   "outputs": [],
   "source": [
    "avg_dist"
   ]
  },
  {
   "cell_type": "code",
   "execution_count": null,
   "metadata": {},
   "outputs": [],
   "source": [
    "img = images[0]\n",
    "fp = get_feature_points(img)\n",
    "fp[0]"
   ]
  },
  {
   "cell_type": "code",
   "execution_count": null,
   "metadata": {},
   "outputs": [],
   "source": [
    "im_color = cv2.imread('./images/1.jpg', cv2.IMREAD_COLOR)"
   ]
  },
  {
   "cell_type": "code",
   "execution_count": null,
   "metadata": {},
   "outputs": [],
   "source": [
    "img = images[1]\n",
    "fp = get_feature_points(img)\n",
    "z = get_orientations(img)\n",
    "angles = get_angles(z)"
   ]
  },
  {
   "cell_type": "code",
   "execution_count": null,
   "metadata": {},
   "outputs": [],
   "source": [
    "fp[1]"
   ]
  },
  {
   "cell_type": "code",
   "execution_count": null,
   "metadata": {},
   "outputs": [],
   "source": [
    "for i, p in enumerate(fp):\n",
    "    angle = angles[p[1], p[0]]\n",
    "    \n",
    "    x2 = int(p[0] + 8 * np.cos(np.radians((360-angle))))\n",
    "    y2 = int(p[1] + 8 * np.sin(np.radians((360-angle))))\n",
    "    \n",
    "    cv2.line(im_color, (p[0], p[1]), (x2, y2), (0, 0, 255), thickness=1, lineType=1)\n",
    "\n",
    "plt.imshow(im_color)\n",
    "cv2.imwrite(\"./images/test.png\", im_color)"
   ]
  },
  {
   "cell_type": "code",
   "execution_count": null,
   "metadata": {},
   "outputs": [],
   "source": []
  }
 ],
 "metadata": {
  "kernelspec": {
   "display_name": "Python 3",
   "language": "python",
   "name": "python3"
  },
  "language_info": {
   "codemirror_mode": {
    "name": "ipython",
    "version": 3
   },
   "file_extension": ".py",
   "mimetype": "text/x-python",
   "name": "python",
   "nbconvert_exporter": "python",
   "pygments_lexer": "ipython3",
   "version": "3.7.3"
  }
 },
 "nbformat": 4,
 "nbformat_minor": 4
}
